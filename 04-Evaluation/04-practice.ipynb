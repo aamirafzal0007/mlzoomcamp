{
 "cells": [
  {
   "cell_type": "code",
   "execution_count": 1,
   "metadata": {},
   "outputs": [],
   "source": [
    "import numpy as np\n",
    "import pandas as pd"
   ]
  },
  {
   "cell_type": "code",
   "execution_count": 4,
   "metadata": {},
   "outputs": [],
   "source": [
    "data =\"https://raw.githubusercontent.com/alexeygrigorev/datasets/master/WA_Fn-UseC_-Telco-Customer-Churn.csv\""
   ]
  },
  {
   "cell_type": "code",
   "execution_count": 5,
   "metadata": {},
   "outputs": [
    {
     "name": "stderr",
     "output_type": "stream",
     "text": [
      "--2023-10-03 20:50:16--  https://raw.githubusercontent.com/alexeygrigorev/datasets/master/WA_Fn-UseC_-Telco-Customer-Churn.csv\n",
      "Resolving raw.githubusercontent.com (raw.githubusercontent.com)... 2606:50c0:8001::154, 2606:50c0:8002::154, 2606:50c0:8003::154, ...\n",
      "Connecting to raw.githubusercontent.com (raw.githubusercontent.com)|2606:50c0:8001::154|:443... connected.\n",
      "HTTP request sent, awaiting response... 404 Not Found\n",
      "2023-10-03 20:50:17 ERROR 404: Not Found.\n",
      "\n"
     ]
    }
   ],
   "source": [
    "!wget $data"
   ]
  },
  {
   "cell_type": "code",
   "execution_count": 20,
   "metadata": {},
   "outputs": [],
   "source": [
    "df=pd.read_csv('WA_Fn-UseC_-Telco-Customer-Churn.csv')"
   ]
  },
  {
   "cell_type": "code",
   "execution_count": 21,
   "metadata": {},
   "outputs": [],
   "source": [
    "df.columns=df.columns.str.lower().str.replace(' ','_')"
   ]
  },
  {
   "cell_type": "code",
   "execution_count": 25,
   "metadata": {},
   "outputs": [],
   "source": [
    "categorical_columns=list(df.dtypes[df.dtypes=='object'].index)\n",
    "for c in categorical_columns:\n",
    "    df[c]=df[c].str.lower().str.replace(' ','_')"
   ]
  },
  {
   "cell_type": "code",
   "execution_count": 26,
   "metadata": {},
   "outputs": [],
   "source": [
    "df.totalcharges=df.totalcharges.fillna(0)"
   ]
  },
  {
   "cell_type": "code",
   "execution_count": 27,
   "metadata": {},
   "outputs": [],
   "source": [
    "df.totalcharges=pd.to_numeric(df.totalcharges,errors='coerce')"
   ]
  },
  {
   "cell_type": "code",
   "execution_count": 28,
   "metadata": {},
   "outputs": [
    {
     "data": {
      "text/html": [
       "<div>\n",
       "<style scoped>\n",
       "    .dataframe tbody tr th:only-of-type {\n",
       "        vertical-align: middle;\n",
       "    }\n",
       "\n",
       "    .dataframe tbody tr th {\n",
       "        vertical-align: top;\n",
       "    }\n",
       "\n",
       "    .dataframe thead th {\n",
       "        text-align: right;\n",
       "    }\n",
       "</style>\n",
       "<table border=\"1\" class=\"dataframe\">\n",
       "  <thead>\n",
       "    <tr style=\"text-align: right;\">\n",
       "      <th></th>\n",
       "      <th>customerid</th>\n",
       "      <th>gender</th>\n",
       "      <th>seniorcitizen</th>\n",
       "      <th>partner</th>\n",
       "      <th>dependents</th>\n",
       "      <th>tenure</th>\n",
       "      <th>phoneservice</th>\n",
       "      <th>multiplelines</th>\n",
       "      <th>internetservice</th>\n",
       "      <th>onlinesecurity</th>\n",
       "      <th>...</th>\n",
       "      <th>deviceprotection</th>\n",
       "      <th>techsupport</th>\n",
       "      <th>streamingtv</th>\n",
       "      <th>streamingmovies</th>\n",
       "      <th>contract</th>\n",
       "      <th>paperlessbilling</th>\n",
       "      <th>paymentmethod</th>\n",
       "      <th>monthlycharges</th>\n",
       "      <th>totalcharges</th>\n",
       "      <th>churn</th>\n",
       "    </tr>\n",
       "  </thead>\n",
       "  <tbody>\n",
       "    <tr>\n",
       "      <th>0</th>\n",
       "      <td>7590-vhveg</td>\n",
       "      <td>female</td>\n",
       "      <td>0</td>\n",
       "      <td>yes</td>\n",
       "      <td>no</td>\n",
       "      <td>1</td>\n",
       "      <td>no</td>\n",
       "      <td>no_phone_service</td>\n",
       "      <td>dsl</td>\n",
       "      <td>no</td>\n",
       "      <td>...</td>\n",
       "      <td>no</td>\n",
       "      <td>no</td>\n",
       "      <td>no</td>\n",
       "      <td>no</td>\n",
       "      <td>month-to-month</td>\n",
       "      <td>yes</td>\n",
       "      <td>electronic_check</td>\n",
       "      <td>29.85</td>\n",
       "      <td>29.85</td>\n",
       "      <td>no</td>\n",
       "    </tr>\n",
       "    <tr>\n",
       "      <th>1</th>\n",
       "      <td>5575-gnvde</td>\n",
       "      <td>male</td>\n",
       "      <td>0</td>\n",
       "      <td>no</td>\n",
       "      <td>no</td>\n",
       "      <td>34</td>\n",
       "      <td>yes</td>\n",
       "      <td>no</td>\n",
       "      <td>dsl</td>\n",
       "      <td>yes</td>\n",
       "      <td>...</td>\n",
       "      <td>yes</td>\n",
       "      <td>no</td>\n",
       "      <td>no</td>\n",
       "      <td>no</td>\n",
       "      <td>one_year</td>\n",
       "      <td>no</td>\n",
       "      <td>mailed_check</td>\n",
       "      <td>56.95</td>\n",
       "      <td>1889.50</td>\n",
       "      <td>no</td>\n",
       "    </tr>\n",
       "    <tr>\n",
       "      <th>2</th>\n",
       "      <td>3668-qpybk</td>\n",
       "      <td>male</td>\n",
       "      <td>0</td>\n",
       "      <td>no</td>\n",
       "      <td>no</td>\n",
       "      <td>2</td>\n",
       "      <td>yes</td>\n",
       "      <td>no</td>\n",
       "      <td>dsl</td>\n",
       "      <td>yes</td>\n",
       "      <td>...</td>\n",
       "      <td>no</td>\n",
       "      <td>no</td>\n",
       "      <td>no</td>\n",
       "      <td>no</td>\n",
       "      <td>month-to-month</td>\n",
       "      <td>yes</td>\n",
       "      <td>mailed_check</td>\n",
       "      <td>53.85</td>\n",
       "      <td>108.15</td>\n",
       "      <td>yes</td>\n",
       "    </tr>\n",
       "    <tr>\n",
       "      <th>3</th>\n",
       "      <td>7795-cfocw</td>\n",
       "      <td>male</td>\n",
       "      <td>0</td>\n",
       "      <td>no</td>\n",
       "      <td>no</td>\n",
       "      <td>45</td>\n",
       "      <td>no</td>\n",
       "      <td>no_phone_service</td>\n",
       "      <td>dsl</td>\n",
       "      <td>yes</td>\n",
       "      <td>...</td>\n",
       "      <td>yes</td>\n",
       "      <td>yes</td>\n",
       "      <td>no</td>\n",
       "      <td>no</td>\n",
       "      <td>one_year</td>\n",
       "      <td>no</td>\n",
       "      <td>bank_transfer_(automatic)</td>\n",
       "      <td>42.30</td>\n",
       "      <td>1840.75</td>\n",
       "      <td>no</td>\n",
       "    </tr>\n",
       "    <tr>\n",
       "      <th>4</th>\n",
       "      <td>9237-hqitu</td>\n",
       "      <td>female</td>\n",
       "      <td>0</td>\n",
       "      <td>no</td>\n",
       "      <td>no</td>\n",
       "      <td>2</td>\n",
       "      <td>yes</td>\n",
       "      <td>no</td>\n",
       "      <td>fiber_optic</td>\n",
       "      <td>no</td>\n",
       "      <td>...</td>\n",
       "      <td>no</td>\n",
       "      <td>no</td>\n",
       "      <td>no</td>\n",
       "      <td>no</td>\n",
       "      <td>month-to-month</td>\n",
       "      <td>yes</td>\n",
       "      <td>electronic_check</td>\n",
       "      <td>70.70</td>\n",
       "      <td>151.65</td>\n",
       "      <td>yes</td>\n",
       "    </tr>\n",
       "  </tbody>\n",
       "</table>\n",
       "<p>5 rows × 21 columns</p>\n",
       "</div>"
      ],
      "text/plain": [
       "   customerid  gender  seniorcitizen partner dependents  tenure phoneservice  \\\n",
       "0  7590-vhveg  female              0     yes         no       1           no   \n",
       "1  5575-gnvde    male              0      no         no      34          yes   \n",
       "2  3668-qpybk    male              0      no         no       2          yes   \n",
       "3  7795-cfocw    male              0      no         no      45           no   \n",
       "4  9237-hqitu  female              0      no         no       2          yes   \n",
       "\n",
       "      multiplelines internetservice onlinesecurity  ...   deviceprotection  \\\n",
       "0  no_phone_service             dsl             no  ...                 no   \n",
       "1                no             dsl            yes  ...                yes   \n",
       "2                no             dsl            yes  ...                 no   \n",
       "3  no_phone_service             dsl            yes  ...                yes   \n",
       "4                no     fiber_optic             no  ...                 no   \n",
       "\n",
       "  techsupport streamingtv streamingmovies        contract paperlessbilling  \\\n",
       "0          no          no              no  month-to-month              yes   \n",
       "1          no          no              no        one_year               no   \n",
       "2          no          no              no  month-to-month              yes   \n",
       "3         yes          no              no        one_year               no   \n",
       "4          no          no              no  month-to-month              yes   \n",
       "\n",
       "               paymentmethod monthlycharges  totalcharges  churn  \n",
       "0           electronic_check          29.85         29.85     no  \n",
       "1               mailed_check          56.95       1889.50     no  \n",
       "2               mailed_check          53.85        108.15    yes  \n",
       "3  bank_transfer_(automatic)          42.30       1840.75     no  \n",
       "4           electronic_check          70.70        151.65    yes  \n",
       "\n",
       "[5 rows x 21 columns]"
      ]
     },
     "execution_count": 28,
     "metadata": {},
     "output_type": "execute_result"
    }
   ],
   "source": [
    "df.head()"
   ]
  },
  {
   "cell_type": "code",
   "execution_count": 29,
   "metadata": {},
   "outputs": [],
   "source": [
    "df.churn=(df.churn=='yes').astype('int')"
   ]
  },
  {
   "cell_type": "code",
   "execution_count": 30,
   "metadata": {},
   "outputs": [
    {
     "data": {
      "text/plain": [
       "0    0\n",
       "1    0\n",
       "2    1\n",
       "3    0\n",
       "4    1\n",
       "Name: churn, dtype: int32"
      ]
     },
     "execution_count": 30,
     "metadata": {},
     "output_type": "execute_result"
    }
   ],
   "source": [
    "df.churn.head()"
   ]
  },
  {
   "cell_type": "code",
   "execution_count": 38,
   "metadata": {},
   "outputs": [],
   "source": [
    "from sklearn.model_selection import train_test_split\n",
    "from sklearn.feature_extraction import DictVectorizer\n",
    "from sklearn.linear_model import LogisticRegression"
   ]
  },
  {
   "cell_type": "code",
   "execution_count": 31,
   "metadata": {},
   "outputs": [],
   "source": [
    "df_train_full,df_test=train_test_split(df,test_size=0.2,random_state=1)\n",
    "df_train,df_val=train_test_split(df_train_full,test_size=0.25,random_state=1)\n",
    "df_train=df_train.reset_index(drop=True)\n",
    "df_val=df_val.reset_index(drop=True)\n",
    "df_test=df_test.reset_index(drop=True)\n",
    "y_train=df_train.churn\n",
    "y_val=df_val.churn\n",
    "y_test=df_test.churn"
   ]
  },
  {
   "cell_type": "code",
   "execution_count": 32,
   "metadata": {},
   "outputs": [],
   "source": [
    "del(df_train['churn'])\n",
    "del(df_val['churn'])\n",
    "del(df_test['churn'])"
   ]
  },
  {
   "cell_type": "code",
   "execution_count": 33,
   "metadata": {},
   "outputs": [],
   "source": [
    "churn_rate=df_train_full.churn.mean()"
   ]
  },
  {
   "cell_type": "code",
   "execution_count": 34,
   "metadata": {},
   "outputs": [
    {
     "data": {
      "text/plain": [
       "0.26996805111821087"
      ]
     },
     "execution_count": 34,
     "metadata": {},
     "output_type": "execute_result"
    }
   ],
   "source": [
    "churn_rate"
   ]
  },
  {
   "cell_type": "code",
   "execution_count": 35,
   "metadata": {},
   "outputs": [
    {
     "data": {
      "text/plain": [
       "0    4113\n",
       "1    1521\n",
       "Name: churn, dtype: int64"
      ]
     },
     "execution_count": 35,
     "metadata": {},
     "output_type": "execute_result"
    }
   ],
   "source": [
    "df_train_full.churn.value_counts()"
   ]
  },
  {
   "cell_type": "code",
   "execution_count": 37,
   "metadata": {},
   "outputs": [],
   "source": [
    "numerical=['tenure','monthlycharges','totalcharges']\n",
    "categorical_columns=['gender', 'seniorcitizen', 'partner', 'dependents',\n",
    "        'phoneservice', 'multiplelines', 'internetservice',\n",
    "       'onlinesecurity', 'onlinebackup', 'deviceprotection', 'techsupport',\n",
    "       'streamingtv', 'streamingmovies', 'contract', 'paperlessbilling',\n",
    "       'paymentmethod' ]"
   ]
  },
  {
   "cell_type": "code",
   "execution_count": 39,
   "metadata": {},
   "outputs": [],
   "source": [
    "dv=DictVectorizer(sparse=False)\n",
    "dict_train=df_train[categorical_columns+numerical].to_dict(orient='records')\n",
    "dict_val=df_val[categorical_columns+numerical].to_dict(orient='records')\n",
    "x_train=dv.fit_transform(dict_train)\n",
    "x_val=dv.fit_transform(dict_val)\n"
   ]
  },
  {
   "cell_type": "code",
   "execution_count": 40,
   "metadata": {},
   "outputs": [
    {
     "data": {
      "text/plain": [
       "LogisticRegression(C=1.0, class_weight=None, dual=False, fit_intercept=True,\n",
       "          intercept_scaling=1, max_iter=100, multi_class='ovr', n_jobs=1,\n",
       "          penalty='l2', random_state=None, solver='liblinear', tol=0.0001,\n",
       "          verbose=0, warm_start=False)"
      ]
     },
     "execution_count": 40,
     "metadata": {},
     "output_type": "execute_result"
    }
   ],
   "source": [
    "model=LogisticRegression()\n",
    "model.fit(x_train,y_train)"
   ]
  },
  {
   "cell_type": "code",
   "execution_count": 41,
   "metadata": {},
   "outputs": [
    {
     "data": {
      "text/plain": [
       "0.8055358410220014"
      ]
     },
     "execution_count": 41,
     "metadata": {},
     "output_type": "execute_result"
    }
   ],
   "source": [
    "y_pred=model.predict_proba(x_val)[:,1]\n",
    "churn_decision=(y_pred>=0.5)\n",
    "(y_val==churn_decision).mean()"
   ]
  },
  {
   "cell_type": "markdown",
   "metadata": {},
   "source": [
    "# 4.2 Accuracy and dummy model"
   ]
  },
  {
   "cell_type": "code",
   "execution_count": 49,
   "metadata": {},
   "outputs": [],
   "source": [
    "threshold=np.linspace(0,1,101)\n",
    "score=[]"
   ]
  },
  {
   "cell_type": "code",
   "execution_count": 50,
   "metadata": {},
   "outputs": [
    {
     "name": "stdout",
     "output_type": "stream",
     "text": [
      "0.2739531582682754   0.0\n",
      "0.3598296664300923   0.01\n",
      "0.42441447835344215   0.02\n",
      "0.4627395315826828   0.03\n",
      "0.49041873669268987   0.04\n",
      "0.5081618168914124   0.05\n",
      "0.5280340667139816   0.06\n",
      "0.5457771469127041   0.07\n",
      "0.5656493967352733   0.08\n",
      "0.5869410929737402   0.09\n",
      "0.6053938963804116   0.1\n",
      "0.6167494677075941   0.11\n",
      "0.631653655074521   0.12\n",
      "0.6373314407381121   0.13\n",
      "0.6529453513129879   0.14\n",
      "0.6635911994322214   0.15\n",
      "0.6692689850958127   0.16\n",
      "0.680624556422995   0.17\n",
      "0.6898509581263307   0.18\n",
      "0.6990773598296665   0.19\n",
      "0.7047551454932577   0.2\n",
      "0.7125621007806955   0.21\n",
      "0.7196593328601846   0.22\n",
      "0.730305180979418   0.23\n",
      "0.7345635202271115   0.24\n",
      "0.7381121362668559   0.25\n",
      "0.7437899219304471   0.26\n",
      "0.751596877217885   0.27\n",
      "0.7551454932576295   0.28\n",
      "0.7558552164655784   0.29\n",
      "0.759403832505323   0.3\n",
      "0.7629524485450674   0.31\n",
      "0.759403832505323   0.32\n",
      "0.7615330021291696   0.33\n",
      "0.7636621717530163   0.34\n",
      "0.7665010645848119   0.35000000000000003\n",
      "0.7721788502484032   0.36\n",
      "0.7743080198722498   0.37\n",
      "0.7771469127040455   0.38\n",
      "0.7792760823278921   0.39\n",
      "0.7806955287437899   0.4\n",
      "0.7899219304471257   0.41000000000000003\n",
      "0.7920511000709723   0.42\n",
      "0.7913413768630234   0.43\n",
      "0.7927608232789212   0.44\n",
      "0.7927608232789212   0.45\n",
      "0.7977288857345636   0.46\n",
      "0.7963094393186657   0.47000000000000003\n",
      "0.7970191625266146   0.48\n",
      "0.801277501774308   0.49\n",
      "0.8055358410220014   0.5\n",
      "0.8048261178140526   0.51\n",
      "0.8048261178140526   0.52\n",
      "0.8062455642299503   0.53\n",
      "0.8041163946061036   0.54\n",
      "0.8041163946061036   0.55\n",
      "0.8041163946061036   0.56\n",
      "0.8041163946061036   0.5700000000000001\n",
      "0.8026969481902059   0.58\n",
      "0.8005677785663591   0.59\n",
      "0.7998580553584103   0.6\n",
      "0.7927608232789212   0.61\n",
      "0.7906316536550745   0.62\n",
      "0.7892122072391767   0.63\n",
      "0.7892122072391767   0.64\n",
      "0.78708303761533   0.65\n",
      "0.7849538679914834   0.66\n",
      "0.7792760823278921   0.67\n",
      "0.7771469127040455   0.68\n",
      "0.7700496806245565   0.6900000000000001\n",
      "0.765791341376863   0.7000000000000001\n",
      "0.7601135557132718   0.71\n",
      "0.7551454932576295   0.72\n",
      "0.7487579843860894   0.73\n",
      "0.7452093683463449   0.74\n",
      "0.7423704755145494   0.75\n",
      "0.7402413058907026   0.76\n",
      "0.7381121362668559   0.77\n",
      "0.7345635202271115   0.78\n",
      "0.7331440738112136   0.79\n",
      "0.7288857345635202   0.8\n",
      "0.7281760113555713   0.81\n",
      "0.7274662881476224   0.8200000000000001\n",
      "0.7260468417317246   0.8300000000000001\n",
      "0.7260468417317246   0.84\n",
      "0.7260468417317246   0.85\n",
      "0.7260468417317246   0.86\n",
      "0.7260468417317246   0.87\n",
      "0.7260468417317246   0.88\n",
      "0.7260468417317246   0.89\n",
      "0.7260468417317246   0.9\n",
      "0.7260468417317246   0.91\n",
      "0.7260468417317246   0.92\n",
      "0.7260468417317246   0.93\n",
      "0.7260468417317246   0.9400000000000001\n",
      "0.7260468417317246   0.9500000000000001\n",
      "0.7260468417317246   0.96\n",
      "0.7260468417317246   0.97\n",
      "0.7260468417317246   0.98\n",
      "0.7260468417317246   0.99\n",
      "0.7260468417317246   1.0\n"
     ]
    }
   ],
   "source": [
    "for t in threshold:\n",
    "    churn_decision=(y_pred>=t)\n",
    "    acc=(y_val==churn_decision).mean()\n",
    "    score.append(acc)\n",
    "    print(acc,' ',t)"
   ]
  },
  {
   "cell_type": "code",
   "execution_count": 55,
   "metadata": {},
   "outputs": [
    {
     "data": {
      "text/plain": [
       "<function matplotlib.pyplot.show(*args, **kw)>"
      ]
     },
     "execution_count": 55,
     "metadata": {},
     "output_type": "execute_result"
    },
    {
     "data": {
      "image/png": "[encoded data removed]",
      "text/plain": [
       "<Figure size 432x288 with 1 Axes>"
      ]
     },
     "metadata": {},
     "output_type": "display_data"
    }
   ],
   "source": [
    "import matplotlib.pyplot as plt\n",
    "plt.plot(threshold,score)\n",
    "plt.show"
   ]
  },
  {
   "cell_type": "code",
   "execution_count": 57,
   "metadata": {},
   "outputs": [],
   "source": [
    "from sklearn.metrics import accuracy_score"
   ]
  },
  {
   "cell_type": "code",
   "execution_count": 59,
   "metadata": {},
   "outputs": [
    {
     "data": {
      "text/plain": [
       "0.7260468417317246"
      ]
     },
     "execution_count": 59,
     "metadata": {},
     "output_type": "execute_result"
    }
   ],
   "source": [
    "accuracy_score(y_val,churn_decision)"
   ]
  },
  {
   "cell_type": "code",
   "execution_count": 60,
   "metadata": {},
   "outputs": [
    {
     "name": "stdout",
     "output_type": "stream",
     "text": [
      "0.2739531582682754   0.0\n",
      "0.3598296664300923   0.01\n",
      "0.42441447835344215   0.02\n",
      "0.4627395315826828   0.03\n",
      "0.49041873669268987   0.04\n",
      "0.5081618168914124   0.05\n",
      "0.5280340667139816   0.06\n",
      "0.5457771469127041   0.07\n",
      "0.5656493967352733   0.08\n",
      "0.5869410929737402   0.09\n",
      "0.6053938963804116   0.1\n",
      "0.6167494677075941   0.11\n",
      "0.631653655074521   0.12\n",
      "0.6373314407381121   0.13\n",
      "0.6529453513129879   0.14\n",
      "0.6635911994322214   0.15\n",
      "0.6692689850958127   0.16\n",
      "0.680624556422995   0.17\n",
      "0.6898509581263307   0.18\n",
      "0.6990773598296665   0.19\n",
      "0.7047551454932577   0.2\n",
      "0.7125621007806955   0.21\n",
      "0.7196593328601846   0.22\n",
      "0.730305180979418   0.23\n",
      "0.7345635202271115   0.24\n",
      "0.7381121362668559   0.25\n",
      "0.7437899219304471   0.26\n",
      "0.751596877217885   0.27\n",
      "0.7551454932576295   0.28\n",
      "0.7558552164655784   0.29\n",
      "0.759403832505323   0.3\n",
      "0.7629524485450674   0.31\n",
      "0.759403832505323   0.32\n",
      "0.7615330021291696   0.33\n",
      "0.7636621717530163   0.34\n",
      "0.7665010645848119   0.35000000000000003\n",
      "0.7721788502484032   0.36\n",
      "0.7743080198722498   0.37\n",
      "0.7771469127040455   0.38\n",
      "0.7792760823278921   0.39\n",
      "0.7806955287437899   0.4\n",
      "0.7899219304471257   0.41000000000000003\n",
      "0.7920511000709723   0.42\n",
      "0.7913413768630234   0.43\n",
      "0.7927608232789212   0.44\n",
      "0.7927608232789212   0.45\n",
      "0.7977288857345636   0.46\n",
      "0.7963094393186657   0.47000000000000003\n",
      "0.7970191625266146   0.48\n",
      "0.801277501774308   0.49\n",
      "0.8055358410220014   0.5\n",
      "0.8048261178140526   0.51\n",
      "0.8048261178140526   0.52\n",
      "0.8062455642299503   0.53\n",
      "0.8041163946061036   0.54\n",
      "0.8041163946061036   0.55\n",
      "0.8041163946061036   0.56\n",
      "0.8041163946061036   0.5700000000000001\n",
      "0.8026969481902059   0.58\n",
      "0.8005677785663591   0.59\n",
      "0.7998580553584103   0.6\n",
      "0.7927608232789212   0.61\n",
      "0.7906316536550745   0.62\n",
      "0.7892122072391767   0.63\n",
      "0.7892122072391767   0.64\n",
      "0.78708303761533   0.65\n",
      "0.7849538679914834   0.66\n",
      "0.7792760823278921   0.67\n",
      "0.7771469127040455   0.68\n",
      "0.7700496806245565   0.6900000000000001\n",
      "0.765791341376863   0.7000000000000001\n",
      "0.7601135557132718   0.71\n",
      "0.7551454932576295   0.72\n",
      "0.7487579843860894   0.73\n",
      "0.7452093683463449   0.74\n",
      "0.7423704755145494   0.75\n",
      "0.7402413058907026   0.76\n",
      "0.7381121362668559   0.77\n",
      "0.7345635202271115   0.78\n",
      "0.7331440738112136   0.79\n",
      "0.7288857345635202   0.8\n",
      "0.7281760113555713   0.81\n",
      "0.7274662881476224   0.8200000000000001\n",
      "0.7260468417317246   0.8300000000000001\n",
      "0.7260468417317246   0.84\n",
      "0.7260468417317246   0.85\n",
      "0.7260468417317246   0.86\n",
      "0.7260468417317246   0.87\n",
      "0.7260468417317246   0.88\n",
      "0.7260468417317246   0.89\n",
      "0.7260468417317246   0.9\n",
      "0.7260468417317246   0.91\n",
      "0.7260468417317246   0.92\n",
      "0.7260468417317246   0.93\n",
      "0.7260468417317246   0.9400000000000001\n",
      "0.7260468417317246   0.9500000000000001\n",
      "0.7260468417317246   0.96\n",
      "0.7260468417317246   0.97\n",
      "0.7260468417317246   0.98\n",
      "0.7260468417317246   0.99\n",
      "0.7260468417317246   1.0\n"
     ]
    }
   ],
   "source": [
    "for t in threshold:\n",
    "    churn_decision=(y_pred>=t)\n",
    "    acc=accuracy_score(y_val,churn_decision)\n",
    "    score.append(acc)\n",
    "    print(acc,' ',t)"
   ]
  },
  {
   "cell_type": "code",
   "execution_count": 61,
   "metadata": {},
   "outputs": [],
   "source": [
    "from collections import Counter"
   ]
  },
  {
   "cell_type": "code",
   "execution_count": 63,
   "metadata": {},
   "outputs": [
    {
     "data": {
      "text/plain": [
       "Counter({False: 1409})"
      ]
     },
     "execution_count": 63,
     "metadata": {},
     "output_type": "execute_result"
    }
   ],
   "source": [
    "Counter(y_pred>=1)"
   ]
  },
  {
   "cell_type": "markdown",
   "metadata": {},
   "source": [
    "# 4.3 Confusion Table"
   ]
  },
  {
   "cell_type": "code",
   "execution_count": 77,
   "metadata": {},
   "outputs": [],
   "source": [
    "tp=(y_pred>=0.5)&(y_val==1)\n",
    "tn=(y_pred<0.5)&(y_val==0)\n",
    "fp=(y_pred>=0.5)&(y_val==0)\n",
    "fn=(y_pred<0.5)&(y_val==1)"
   ]
  },
  {
   "cell_type": "code",
   "execution_count": 79,
   "metadata": {},
   "outputs": [
    {
     "data": {
      "text/plain": [
       "(212, 923, 100, 174)"
      ]
     },
     "execution_count": 79,
     "metadata": {},
     "output_type": "execute_result"
    }
   ],
   "source": [
    "tp.sum(),tn.sum(),fp.sum(),fn.sum()"
   ]
  },
  {
   "cell_type": "code",
   "execution_count": 76,
   "metadata": {},
   "outputs": [
    {
     "data": {
      "text/plain": [
       "1409"
      ]
     },
     "execution_count": 76,
     "metadata": {},
     "output_type": "execute_result"
    }
   ],
   "source": [
    "len(tp)"
   ]
  },
  {
   "cell_type": "code",
   "execution_count": 85,
   "metadata": {},
   "outputs": [],
   "source": [
    "confusion_matrix=np.array([[tn.sum(),fp.sum()],[fn.sum(),tp.sum()]])"
   ]
  },
  {
   "cell_type": "code",
   "execution_count": 86,
   "metadata": {},
   "outputs": [
    {
     "data": {
      "text/plain": [
       "array([[923, 100],\n",
       "       [174, 212]], dtype=int64)"
      ]
     },
     "execution_count": 86,
     "metadata": {},
     "output_type": "execute_result"
    }
   ],
   "source": [
    "confusion_matrix"
   ]
  },
  {
   "cell_type": "code",
   "execution_count": 88,
   "metadata": {},
   "outputs": [
    {
     "data": {
      "text/plain": [
       "0.12349183818310859"
      ]
     },
     "execution_count": 88,
     "metadata": {},
     "output_type": "execute_result"
    }
   ],
   "source": [
    "174/1409"
   ]
  },
  {
   "cell_type": "code",
   "execution_count": 91,
   "metadata": {},
   "outputs": [
    {
     "data": {
      "text/plain": [
       "array([[0.655, 0.071],\n",
       "       [0.123, 0.15 ]])"
      ]
     },
     "execution_count": 91,
     "metadata": {},
     "output_type": "execute_result"
    }
   ],
   "source": [
    "(confusion_matrix/confusion_matrix.sum()).round(3)"
   ]
  },
  {
   "cell_type": "code",
   "execution_count": 92,
   "metadata": {},
   "outputs": [],
   "source": [
    " precision=tp.sum()/(tp.sum()+fp.sum())"
   ]
  },
  {
   "cell_type": "code",
   "execution_count": 93,
   "metadata": {},
   "outputs": [
    {
     "data": {
      "text/plain": [
       "0.6794871794871795"
      ]
     },
     "execution_count": 93,
     "metadata": {},
     "output_type": "execute_result"
    }
   ],
   "source": [
    "precision"
   ]
  },
  {
   "cell_type": "code",
   "execution_count": 94,
   "metadata": {},
   "outputs": [],
   "source": [
    "recall=tp.sum()/(tp.sum()+fn.sum())"
   ]
  },
  {
   "cell_type": "code",
   "execution_count": 95,
   "metadata": {},
   "outputs": [
    {
     "data": {
      "text/plain": [
       "0.5492227979274611"
      ]
     },
     "execution_count": 95,
     "metadata": {},
     "output_type": "execute_result"
    }
   ],
   "source": [
    "recall"
   ]
  },
  {
   "cell_type": "markdown",
   "metadata": {},
   "source": [
    "# 4.5 ROC Curves"
   ]
  },
  {
   "cell_type": "code",
   "execution_count": 96,
   "metadata": {},
   "outputs": [],
   "source": [
    "tpr=tp.sum()/(tp.sum()+fn.sum())\n",
    "fpr=fp.sum()/(fp.sum()+tn.sum())"
   ]
  },
  {
   "cell_type": "code",
   "execution_count": 97,
   "metadata": {},
   "outputs": [
    {
     "data": {
      "text/plain": [
       "(0.5492227979274611, 0.09775171065493646)"
      ]
     },
     "execution_count": 97,
     "metadata": {},
     "output_type": "execute_result"
    }
   ],
   "source": [
    "tpr,fpr"
   ]
  },
  {
   "cell_type": "code",
   "execution_count": 143,
   "metadata": {},
   "outputs": [
    {
     "name": "stderr",
     "output_type": "stream",
     "text": [
      "C:\\Users\\0\\Anaconda3\\lib\\site-packages\\ipykernel_launcher.py:8: RuntimeWarning: invalid value encountered in longlong_scalars\n",
      "  \n"
     ]
    }
   ],
   "source": [
    "scores=[]\n",
    "for t in threshold:\n",
    "    tp=((y_pred>=t)&(y_val==1)).sum()\n",
    "    tn=((y_pred<t)&(y_val==0)).sum()\n",
    "    fp=((y_pred>=t)&(y_val==0)).sum()\n",
    "    fn=((y_pred<t)&(y_val==1)).sum()\n",
    "    confusion_matrix=np.array([[tn,fp],[fn,tp]])  \n",
    "    precision=tp.sum()/(tp.sum()+fp.sum())\n",
    "    recall=tp/(tp+fn)  \n",
    "    tpr=tp/(tp+fn)\n",
    "    fpr=fp/(fp+tn)\n",
    "    scores.append((t,tp,fp,tn,fn,precision,recall,tpr,fpr))"
   ]
  },
  {
   "cell_type": "code",
   "execution_count": 108,
   "metadata": {},
   "outputs": [
    {
     "data": {
      "text/plain": [
       "[(0.0, 386, 1023, 0, 0, 0.2739531582682754, 1.0, 1.0, 1.0),\n",
       " (0.01,\n",
       "  385,\n",
       "  901,\n",
       "  122,\n",
       "  1,\n",
       "  0.29937791601866254,\n",
       "  0.9974093264248705,\n",
       "  0.9974093264248705,\n",
       "  0.8807429130009775),\n",
       " (0.02,\n",
       "  383,\n",
       "  808,\n",
       "  215,\n",
       "  3,\n",
       "  0.32157850545759864,\n",
       "  0.9922279792746114,\n",
       "  0.9922279792746114,\n",
       "  0.7898338220918866),\n",
       " (0.03,\n",
       "  382,\n",
       "  753,\n",
       "  270,\n",
       "  4,\n",
       "  0.3365638766519824,\n",
       "  0.9896373056994818,\n",
       "  0.9896373056994818,\n",
       "  0.7360703812316716),\n",
       " (0.04,\n",
       "  382,\n",
       "  714,\n",
       "  309,\n",
       "  4,\n",
       "  0.34854014598540145,\n",
       "  0.9896373056994818,\n",
       "  0.9896373056994818,\n",
       "  0.6979472140762464),\n",
       " (0.05,\n",
       "  379,\n",
       "  686,\n",
       "  337,\n",
       "  7,\n",
       "  0.355868544600939,\n",
       "  0.9818652849740933,\n",
       "  0.9818652849740933,\n",
       "  0.6705767350928641),\n",
       " (0.06,\n",
       "  377,\n",
       "  656,\n",
       "  367,\n",
       "  9,\n",
       "  0.3649564375605034,\n",
       "  0.9766839378238342,\n",
       "  0.9766839378238342,\n",
       "  0.6412512218963832),\n",
       " (0.07,\n",
       "  375,\n",
       "  629,\n",
       "  394,\n",
       "  11,\n",
       "  0.37350597609561753,\n",
       "  0.9715025906735751,\n",
       "  0.9715025906735751,\n",
       "  0.6148582600195504),\n",
       " (0.08,\n",
       "  370,\n",
       "  596,\n",
       "  427,\n",
       "  16,\n",
       "  0.3830227743271222,\n",
       "  0.9585492227979274,\n",
       "  0.9585492227979274,\n",
       "  0.5826001955034213),\n",
       " (0.09,\n",
       "  370,\n",
       "  566,\n",
       "  457,\n",
       "  16,\n",
       "  0.3952991452991453,\n",
       "  0.9585492227979274,\n",
       "  0.9585492227979274,\n",
       "  0.5532746823069403),\n",
       " (0.1,\n",
       "  367,\n",
       "  537,\n",
       "  486,\n",
       "  19,\n",
       "  0.4059734513274336,\n",
       "  0.9507772020725389,\n",
       "  0.9507772020725389,\n",
       "  0.5249266862170088),\n",
       " (0.11,\n",
       "  364,\n",
       "  518,\n",
       "  505,\n",
       "  22,\n",
       "  0.4126984126984127,\n",
       "  0.9430051813471503,\n",
       "  0.9430051813471503,\n",
       "  0.5063538611925709),\n",
       " (0.12,\n",
       "  363,\n",
       "  496,\n",
       "  527,\n",
       "  23,\n",
       "  0.42258440046565776,\n",
       "  0.9404145077720207,\n",
       "  0.9404145077720207,\n",
       "  0.48484848484848486),\n",
       " (0.13,\n",
       "  361,\n",
       "  486,\n",
       "  537,\n",
       "  25,\n",
       "  0.42621015348288077,\n",
       "  0.9352331606217616,\n",
       "  0.9352331606217616,\n",
       "  0.4750733137829912),\n",
       " (0.14,\n",
       "  358,\n",
       "  461,\n",
       "  562,\n",
       "  28,\n",
       "  0.4371184371184371,\n",
       "  0.927461139896373,\n",
       "  0.927461139896373,\n",
       "  0.4506353861192571),\n",
       " (0.15,\n",
       "  353,\n",
       "  441,\n",
       "  582,\n",
       "  33,\n",
       "  0.4445843828715365,\n",
       "  0.9145077720207254,\n",
       "  0.9145077720207254,\n",
       "  0.4310850439882698),\n",
       " (0.16,\n",
       "  349,\n",
       "  429,\n",
       "  594,\n",
       "  37,\n",
       "  0.448586118251928,\n",
       "  0.9041450777202072,\n",
       "  0.9041450777202072,\n",
       "  0.41935483870967744),\n",
       " (0.17,\n",
       "  347,\n",
       "  411,\n",
       "  612,\n",
       "  39,\n",
       "  0.4577836411609499,\n",
       "  0.8989637305699482,\n",
       "  0.8989637305699482,\n",
       "  0.40175953079178883),\n",
       " (0.18,\n",
       "  347,\n",
       "  398,\n",
       "  625,\n",
       "  39,\n",
       "  0.4657718120805369,\n",
       "  0.8989637305699482,\n",
       "  0.8989637305699482,\n",
       "  0.3890518084066471),\n",
       " (0.19,\n",
       "  342,\n",
       "  380,\n",
       "  643,\n",
       "  44,\n",
       "  0.47368421052631576,\n",
       "  0.8860103626943006,\n",
       "  0.8860103626943006,\n",
       "  0.37145650048875856),\n",
       " (0.2,\n",
       "  337,\n",
       "  367,\n",
       "  656,\n",
       "  49,\n",
       "  0.4786931818181818,\n",
       "  0.8730569948186528,\n",
       "  0.8730569948186528,\n",
       "  0.3587487781036168),\n",
       " (0.21,\n",
       "  332,\n",
       "  351,\n",
       "  672,\n",
       "  54,\n",
       "  0.486090775988287,\n",
       "  0.8601036269430051,\n",
       "  0.8601036269430051,\n",
       "  0.34310850439882695),\n",
       " (0.22,\n",
       "  328,\n",
       "  337,\n",
       "  686,\n",
       "  58,\n",
       "  0.4932330827067669,\n",
       "  0.8497409326424871,\n",
       "  0.8497409326424871,\n",
       "  0.32942326490713586),\n",
       " (0.23,\n",
       "  322,\n",
       "  316,\n",
       "  707,\n",
       "  64,\n",
       "  0.5047021943573667,\n",
       "  0.8341968911917098,\n",
       "  0.8341968911917098,\n",
       "  0.3088954056695992),\n",
       " (0.24,\n",
       "  319,\n",
       "  307,\n",
       "  716,\n",
       "  67,\n",
       "  0.5095846645367412,\n",
       "  0.8264248704663213,\n",
       "  0.8264248704663213,\n",
       "  0.30009775171065495),\n",
       " (0.25,\n",
       "  314,\n",
       "  297,\n",
       "  726,\n",
       "  72,\n",
       "  0.513911620294599,\n",
       "  0.8134715025906736,\n",
       "  0.8134715025906736,\n",
       "  0.2903225806451613),\n",
       " (0.26,\n",
       "  312,\n",
       "  287,\n",
       "  736,\n",
       "  74,\n",
       "  0.5208681135225376,\n",
       "  0.8082901554404145,\n",
       "  0.8082901554404145,\n",
       "  0.2805474095796676),\n",
       " (0.27,\n",
       "  310,\n",
       "  274,\n",
       "  749,\n",
       "  76,\n",
       "  0.5308219178082192,\n",
       "  0.8031088082901554,\n",
       "  0.8031088082901554,\n",
       "  0.2678396871945259),\n",
       " (0.28,\n",
       "  302,\n",
       "  261,\n",
       "  762,\n",
       "  84,\n",
       "  0.5364120781527532,\n",
       "  0.7823834196891192,\n",
       "  0.7823834196891192,\n",
       "  0.25513196480938416),\n",
       " (0.29,\n",
       "  299,\n",
       "  257,\n",
       "  766,\n",
       "  87,\n",
       "  0.5377697841726619,\n",
       "  0.7746113989637305,\n",
       "  0.7746113989637305,\n",
       "  0.2512218963831867),\n",
       " (0.3,\n",
       "  292,\n",
       "  245,\n",
       "  778,\n",
       "  94,\n",
       "  0.5437616387337058,\n",
       "  0.7564766839378239,\n",
       "  0.7564766839378239,\n",
       "  0.23949169110459434),\n",
       " (0.31,\n",
       "  289,\n",
       "  237,\n",
       "  786,\n",
       "  97,\n",
       "  0.5494296577946768,\n",
       "  0.7487046632124352,\n",
       "  0.7487046632124352,\n",
       "  0.2316715542521994),\n",
       " (0.32,\n",
       "  282,\n",
       "  235,\n",
       "  788,\n",
       "  104,\n",
       "  0.5454545454545454,\n",
       "  0.7305699481865285,\n",
       "  0.7305699481865285,\n",
       "  0.22971652003910067),\n",
       " (0.33,\n",
       "  279,\n",
       "  229,\n",
       "  794,\n",
       "  107,\n",
       "  0.5492125984251969,\n",
       "  0.7227979274611399,\n",
       "  0.7227979274611399,\n",
       "  0.2238514173998045),\n",
       " (0.34,\n",
       "  273,\n",
       "  220,\n",
       "  803,\n",
       "  113,\n",
       "  0.5537525354969574,\n",
       "  0.7072538860103627,\n",
       "  0.7072538860103627,\n",
       "  0.21505376344086022),\n",
       " (0.35000000000000003,\n",
       "  271,\n",
       "  214,\n",
       "  809,\n",
       "  115,\n",
       "  0.5587628865979382,\n",
       "  0.7020725388601037,\n",
       "  0.7020725388601037,\n",
       "  0.20918866080156404),\n",
       " (0.36,\n",
       "  269,\n",
       "  204,\n",
       "  819,\n",
       "  117,\n",
       "  0.5687103594080338,\n",
       "  0.6968911917098446,\n",
       "  0.6968911917098446,\n",
       "  0.19941348973607037),\n",
       " (0.37,\n",
       "  265,\n",
       "  197,\n",
       "  826,\n",
       "  121,\n",
       "  0.5735930735930735,\n",
       "  0.6865284974093264,\n",
       "  0.6865284974093264,\n",
       "  0.19257086999022482),\n",
       " (0.38,\n",
       "  260,\n",
       "  188,\n",
       "  835,\n",
       "  126,\n",
       "  0.5803571428571429,\n",
       "  0.6735751295336787,\n",
       "  0.6735751295336787,\n",
       "  0.18377321603128055),\n",
       " (0.39,\n",
       "  255,\n",
       "  180,\n",
       "  843,\n",
       "  131,\n",
       "  0.5862068965517241,\n",
       "  0.6606217616580311,\n",
       "  0.6606217616580311,\n",
       "  0.17595307917888564),\n",
       " (0.4,\n",
       "  252,\n",
       "  175,\n",
       "  848,\n",
       "  134,\n",
       "  0.5901639344262295,\n",
       "  0.6528497409326425,\n",
       "  0.6528497409326425,\n",
       "  0.1710654936461388),\n",
       " (0.41000000000000003,\n",
       "  251,\n",
       "  161,\n",
       "  862,\n",
       "  135,\n",
       "  0.6092233009708737,\n",
       "  0.6502590673575129,\n",
       "  0.6502590673575129,\n",
       "  0.1573802541544477),\n",
       " (0.42,\n",
       "  248,\n",
       "  155,\n",
       "  868,\n",
       "  138,\n",
       "  0.6153846153846154,\n",
       "  0.6424870466321243,\n",
       "  0.6424870466321243,\n",
       "  0.15151515151515152),\n",
       " (0.43,\n",
       "  241,\n",
       "  149,\n",
       "  874,\n",
       "  145,\n",
       "  0.617948717948718,\n",
       "  0.6243523316062176,\n",
       "  0.6243523316062176,\n",
       "  0.14565004887585534),\n",
       " (0.44,\n",
       "  235,\n",
       "  141,\n",
       "  882,\n",
       "  151,\n",
       "  0.625,\n",
       "  0.6088082901554405,\n",
       "  0.6088082901554405,\n",
       "  0.1378299120234604),\n",
       " (0.45,\n",
       "  231,\n",
       "  137,\n",
       "  886,\n",
       "  155,\n",
       "  0.6277173913043478,\n",
       "  0.5984455958549223,\n",
       "  0.5984455958549223,\n",
       "  0.13391984359726294),\n",
       " (0.46,\n",
       "  230,\n",
       "  129,\n",
       "  894,\n",
       "  156,\n",
       "  0.6406685236768802,\n",
       "  0.5958549222797928,\n",
       "  0.5958549222797928,\n",
       "  0.12609970674486803),\n",
       " (0.47000000000000003,\n",
       "  222,\n",
       "  123,\n",
       "  900,\n",
       "  164,\n",
       "  0.6434782608695652,\n",
       "  0.5751295336787565,\n",
       "  0.5751295336787565,\n",
       "  0.12023460410557185),\n",
       " (0.48,\n",
       "  216,\n",
       "  116,\n",
       "  907,\n",
       "  170,\n",
       "  0.6506024096385542,\n",
       "  0.5595854922279793,\n",
       "  0.5595854922279793,\n",
       "  0.11339198435972629),\n",
       " (0.49,\n",
       "  214,\n",
       "  108,\n",
       "  915,\n",
       "  172,\n",
       "  0.6645962732919255,\n",
       "  0.5544041450777202,\n",
       "  0.5544041450777202,\n",
       "  0.10557184750733138),\n",
       " (0.5,\n",
       "  212,\n",
       "  100,\n",
       "  923,\n",
       "  174,\n",
       "  0.6794871794871795,\n",
       "  0.5492227979274611,\n",
       "  0.5492227979274611,\n",
       "  0.09775171065493646),\n",
       " (0.51,\n",
       "  208,\n",
       "  97,\n",
       "  926,\n",
       "  178,\n",
       "  0.6819672131147541,\n",
       "  0.538860103626943,\n",
       "  0.538860103626943,\n",
       "  0.09481915933528837),\n",
       " (0.52,\n",
       "  205,\n",
       "  94,\n",
       "  929,\n",
       "  181,\n",
       "  0.68561872909699,\n",
       "  0.5310880829015544,\n",
       "  0.5310880829015544,\n",
       "  0.09188660801564028),\n",
       " (0.53,\n",
       "  202,\n",
       "  89,\n",
       "  934,\n",
       "  184,\n",
       "  0.6941580756013745,\n",
       "  0.5233160621761658,\n",
       "  0.5233160621761658,\n",
       "  0.08699902248289346),\n",
       " (0.54,\n",
       "  195,\n",
       "  85,\n",
       "  938,\n",
       "  191,\n",
       "  0.6964285714285714,\n",
       "  0.5051813471502591,\n",
       "  0.5051813471502591,\n",
       "  0.08308895405669599),\n",
       " (0.55,\n",
       "  188,\n",
       "  78,\n",
       "  945,\n",
       "  198,\n",
       "  0.706766917293233,\n",
       "  0.48704663212435234,\n",
       "  0.48704663212435234,\n",
       "  0.07624633431085044),\n",
       " (0.56,\n",
       "  181,\n",
       "  71,\n",
       "  952,\n",
       "  205,\n",
       "  0.7182539682539683,\n",
       "  0.4689119170984456,\n",
       "  0.4689119170984456,\n",
       "  0.06940371456500488),\n",
       " (0.5700000000000001,\n",
       "  176,\n",
       "  66,\n",
       "  957,\n",
       "  210,\n",
       "  0.7272727272727273,\n",
       "  0.45595854922279794,\n",
       "  0.45595854922279794,\n",
       "  0.06451612903225806),\n",
       " (0.58,\n",
       "  168,\n",
       "  60,\n",
       "  963,\n",
       "  218,\n",
       "  0.7368421052631579,\n",
       "  0.43523316062176165,\n",
       "  0.43523316062176165,\n",
       "  0.05865102639296188),\n",
       " (0.59,\n",
       "  162,\n",
       "  57,\n",
       "  966,\n",
       "  224,\n",
       "  0.7397260273972602,\n",
       "  0.41968911917098445,\n",
       "  0.41968911917098445,\n",
       "  0.05571847507331378),\n",
       " (0.6,\n",
       "  155,\n",
       "  51,\n",
       "  972,\n",
       "  231,\n",
       "  0.7524271844660194,\n",
       "  0.4015544041450777,\n",
       "  0.4015544041450777,\n",
       "  0.04985337243401759),\n",
       " (0.61,\n",
       "  140,\n",
       "  46,\n",
       "  977,\n",
       "  246,\n",
       "  0.7526881720430108,\n",
       "  0.3626943005181347,\n",
       "  0.3626943005181347,\n",
       "  0.044965786901270774),\n",
       " (0.62,\n",
       "  132,\n",
       "  41,\n",
       "  982,\n",
       "  254,\n",
       "  0.7630057803468208,\n",
       "  0.34196891191709844,\n",
       "  0.34196891191709844,\n",
       "  0.04007820136852395),\n",
       " (0.63,\n",
       "  126,\n",
       "  37,\n",
       "  986,\n",
       "  260,\n",
       "  0.7730061349693251,\n",
       "  0.32642487046632124,\n",
       "  0.32642487046632124,\n",
       "  0.03616813294232649),\n",
       " (0.64,\n",
       "  123,\n",
       "  34,\n",
       "  989,\n",
       "  263,\n",
       "  0.7834394904458599,\n",
       "  0.31865284974093266,\n",
       "  0.31865284974093266,\n",
       "  0.033235581622678395),\n",
       " (0.65,\n",
       "  119,\n",
       "  33,\n",
       "  990,\n",
       "  267,\n",
       "  0.7828947368421053,\n",
       "  0.3082901554404145,\n",
       "  0.3082901554404145,\n",
       "  0.03225806451612903),\n",
       " (0.66,\n",
       "  110,\n",
       "  27,\n",
       "  996,\n",
       "  276,\n",
       "  0.8029197080291971,\n",
       "  0.2849740932642487,\n",
       "  0.2849740932642487,\n",
       "  0.026392961876832845),\n",
       " (0.67,\n",
       "  101,\n",
       "  26,\n",
       "  997,\n",
       "  285,\n",
       "  0.7952755905511811,\n",
       "  0.2616580310880829,\n",
       "  0.2616580310880829,\n",
       "  0.02541544477028348),\n",
       " (0.68,\n",
       "  94,\n",
       "  22,\n",
       "  1001,\n",
       "  292,\n",
       "  0.8103448275862069,\n",
       "  0.24352331606217617,\n",
       "  0.24352331606217617,\n",
       "  0.021505376344086023),\n",
       " (0.6900000000000001,\n",
       "  80,\n",
       "  18,\n",
       "  1005,\n",
       "  306,\n",
       "  0.8163265306122449,\n",
       "  0.20725388601036268,\n",
       "  0.20725388601036268,\n",
       "  0.017595307917888565),\n",
       " (0.7000000000000001,\n",
       "  69,\n",
       "  13,\n",
       "  1010,\n",
       "  317,\n",
       "  0.8414634146341463,\n",
       "  0.17875647668393782,\n",
       "  0.17875647668393782,\n",
       "  0.01270772238514174),\n",
       " (0.71,\n",
       "  60,\n",
       "  12,\n",
       "  1011,\n",
       "  326,\n",
       "  0.8333333333333334,\n",
       "  0.15544041450777202,\n",
       "  0.15544041450777202,\n",
       "  0.011730205278592375),\n",
       " (0.72,\n",
       "  50,\n",
       "  9,\n",
       "  1014,\n",
       "  336,\n",
       "  0.847457627118644,\n",
       "  0.12953367875647667,\n",
       "  0.12953367875647667,\n",
       "  0.008797653958944282),\n",
       " (0.73,\n",
       "  41,\n",
       "  9,\n",
       "  1014,\n",
       "  345,\n",
       "  0.82,\n",
       "  0.10621761658031088,\n",
       "  0.10621761658031088,\n",
       "  0.008797653958944282),\n",
       " (0.74,\n",
       "  35,\n",
       "  8,\n",
       "  1015,\n",
       "  351,\n",
       "  0.813953488372093,\n",
       "  0.09067357512953368,\n",
       "  0.09067357512953368,\n",
       "  0.007820136852394917),\n",
       " (0.75,\n",
       "  29,\n",
       "  6,\n",
       "  1017,\n",
       "  357,\n",
       "  0.8285714285714286,\n",
       "  0.07512953367875648,\n",
       "  0.07512953367875648,\n",
       "  0.005865102639296188),\n",
       " (0.76,\n",
       "  24,\n",
       "  4,\n",
       "  1019,\n",
       "  362,\n",
       "  0.8571428571428571,\n",
       "  0.06217616580310881,\n",
       "  0.06217616580310881,\n",
       "  0.0039100684261974585),\n",
       " (0.77,\n",
       "  19,\n",
       "  2,\n",
       "  1021,\n",
       "  367,\n",
       "  0.9047619047619048,\n",
       "  0.04922279792746114,\n",
       "  0.04922279792746114,\n",
       "  0.0019550342130987292),\n",
       " (0.78,\n",
       "  12,\n",
       "  0,\n",
       "  1023,\n",
       "  374,\n",
       "  1.0,\n",
       "  0.031088082901554404,\n",
       "  0.031088082901554404,\n",
       "  0.0),\n",
       " (0.79,\n",
       "  10,\n",
       "  0,\n",
       "  1023,\n",
       "  376,\n",
       "  1.0,\n",
       "  0.025906735751295335,\n",
       "  0.025906735751295335,\n",
       "  0.0),\n",
       " (0.8, 4, 0, 1023, 382, 1.0, 0.010362694300518135, 0.010362694300518135, 0.0),\n",
       " (0.81, 3, 0, 1023, 383, 1.0, 0.007772020725388601, 0.007772020725388601, 0.0),\n",
       " (0.8200000000000001,\n",
       "  2,\n",
       "  0,\n",
       "  1023,\n",
       "  384,\n",
       "  1.0,\n",
       "  0.0051813471502590676,\n",
       "  0.0051813471502590676,\n",
       "  0.0),\n",
       " (0.8300000000000001, 0, 0, 1023, 386, nan, 0.0, 0.0, 0.0),\n",
       " (0.84, 0, 0, 1023, 386, nan, 0.0, 0.0, 0.0),\n",
       " (0.85, 0, 0, 1023, 386, nan, 0.0, 0.0, 0.0),\n",
       " (0.86, 0, 0, 1023, 386, nan, 0.0, 0.0, 0.0),\n",
       " (0.87, 0, 0, 1023, 386, nan, 0.0, 0.0, 0.0),\n",
       " (0.88, 0, 0, 1023, 386, nan, 0.0, 0.0, 0.0),\n",
       " (0.89, 0, 0, 1023, 386, nan, 0.0, 0.0, 0.0),\n",
       " (0.9, 0, 0, 1023, 386, nan, 0.0, 0.0, 0.0),\n",
       " (0.91, 0, 0, 1023, 386, nan, 0.0, 0.0, 0.0),\n",
       " (0.92, 0, 0, 1023, 386, nan, 0.0, 0.0, 0.0),\n",
       " (0.93, 0, 0, 1023, 386, nan, 0.0, 0.0, 0.0),\n",
       " (0.9400000000000001, 0, 0, 1023, 386, nan, 0.0, 0.0, 0.0),\n",
       " (0.9500000000000001, 0, 0, 1023, 386, nan, 0.0, 0.0, 0.0),\n",
       " (0.96, 0, 0, 1023, 386, nan, 0.0, 0.0, 0.0),\n",
       " (0.97, 0, 0, 1023, 386, nan, 0.0, 0.0, 0.0),\n",
       " (0.98, 0, 0, 1023, 386, nan, 0.0, 0.0, 0.0),\n",
       " (0.99, 0, 0, 1023, 386, nan, 0.0, 0.0, 0.0),\n",
       " (1.0, 0, 0, 1023, 386, nan, 0.0, 0.0, 0.0)]"
      ]
     },
     "execution_count": 108,
     "metadata": {},
     "output_type": "execute_result"
    }
   ],
   "source": [
    "scores"
   ]
  },
  {
   "cell_type": "code",
   "execution_count": 144,
   "metadata": {},
   "outputs": [],
   "source": [
    "cols=['threshold','tp','fp','tn','fn','precision','recall','tpr','fpr']\n",
    "df=pd.DataFrame(scores,columns=cols)"
   ]
  },
  {
   "cell_type": "code",
   "execution_count": 145,
   "metadata": {},
   "outputs": [
    {
     "data": {
      "text/html": [
       "<div>\n",
       "<style scoped>\n",
       "    .dataframe tbody tr th:only-of-type {\n",
       "        vertical-align: middle;\n",
       "    }\n",
       "\n",
       "    .dataframe tbody tr th {\n",
       "        vertical-align: top;\n",
       "    }\n",
       "\n",
       "    .dataframe thead th {\n",
       "        text-align: right;\n",
       "    }\n",
       "</style>\n",
       "<table border=\"1\" class=\"dataframe\">\n",
       "  <thead>\n",
       "    <tr style=\"text-align: right;\">\n",
       "      <th></th>\n",
       "      <th>threshold</th>\n",
       "      <th>tp</th>\n",
       "      <th>fp</th>\n",
       "      <th>tn</th>\n",
       "      <th>fn</th>\n",
       "      <th>precision</th>\n",
       "      <th>recall</th>\n",
       "      <th>tpr</th>\n",
       "      <th>fpr</th>\n",
       "    </tr>\n",
       "  </thead>\n",
       "  <tbody>\n",
       "    <tr>\n",
       "      <th>0</th>\n",
       "      <td>0.00</td>\n",
       "      <td>386</td>\n",
       "      <td>1023</td>\n",
       "      <td>0</td>\n",
       "      <td>0</td>\n",
       "      <td>0.273953</td>\n",
       "      <td>1.000000</td>\n",
       "      <td>1.000000</td>\n",
       "      <td>1.000000</td>\n",
       "    </tr>\n",
       "    <tr>\n",
       "      <th>1</th>\n",
       "      <td>0.01</td>\n",
       "      <td>385</td>\n",
       "      <td>901</td>\n",
       "      <td>122</td>\n",
       "      <td>1</td>\n",
       "      <td>0.299378</td>\n",
       "      <td>0.997409</td>\n",
       "      <td>0.997409</td>\n",
       "      <td>0.880743</td>\n",
       "    </tr>\n",
       "    <tr>\n",
       "      <th>2</th>\n",
       "      <td>0.02</td>\n",
       "      <td>383</td>\n",
       "      <td>808</td>\n",
       "      <td>215</td>\n",
       "      <td>3</td>\n",
       "      <td>0.321579</td>\n",
       "      <td>0.992228</td>\n",
       "      <td>0.992228</td>\n",
       "      <td>0.789834</td>\n",
       "    </tr>\n",
       "    <tr>\n",
       "      <th>3</th>\n",
       "      <td>0.03</td>\n",
       "      <td>382</td>\n",
       "      <td>753</td>\n",
       "      <td>270</td>\n",
       "      <td>4</td>\n",
       "      <td>0.336564</td>\n",
       "      <td>0.989637</td>\n",
       "      <td>0.989637</td>\n",
       "      <td>0.736070</td>\n",
       "    </tr>\n",
       "    <tr>\n",
       "      <th>4</th>\n",
       "      <td>0.04</td>\n",
       "      <td>382</td>\n",
       "      <td>714</td>\n",
       "      <td>309</td>\n",
       "      <td>4</td>\n",
       "      <td>0.348540</td>\n",
       "      <td>0.989637</td>\n",
       "      <td>0.989637</td>\n",
       "      <td>0.697947</td>\n",
       "    </tr>\n",
       "  </tbody>\n",
       "</table>\n",
       "</div>"
      ],
      "text/plain": [
       "   threshold   tp    fp   tn  fn  precision    recall       tpr       fpr\n",
       "0       0.00  386  1023    0   0   0.273953  1.000000  1.000000  1.000000\n",
       "1       0.01  385   901  122   1   0.299378  0.997409  0.997409  0.880743\n",
       "2       0.02  383   808  215   3   0.321579  0.992228  0.992228  0.789834\n",
       "3       0.03  382   753  270   4   0.336564  0.989637  0.989637  0.736070\n",
       "4       0.04  382   714  309   4   0.348540  0.989637  0.989637  0.697947"
      ]
     },
     "execution_count": 145,
     "metadata": {},
     "output_type": "execute_result"
    }
   ],
   "source": [
    "df.head()"
   ]
  },
  {
   "cell_type": "code",
   "execution_count": 114,
   "metadata": {},
   "outputs": [
    {
     "data": {
      "text/html": [
       "<div>\n",
       "<style scoped>\n",
       "    .dataframe tbody tr th:only-of-type {\n",
       "        vertical-align: middle;\n",
       "    }\n",
       "\n",
       "    .dataframe tbody tr th {\n",
       "        vertical-align: top;\n",
       "    }\n",
       "\n",
       "    .dataframe thead th {\n",
       "        text-align: right;\n",
       "    }\n",
       "</style>\n",
       "<table border=\"1\" class=\"dataframe\">\n",
       "  <thead>\n",
       "    <tr style=\"text-align: right;\">\n",
       "      <th></th>\n",
       "      <th>threshold</th>\n",
       "      <th>tp</th>\n",
       "      <th>fp</th>\n",
       "      <th>tn</th>\n",
       "      <th>fn</th>\n",
       "      <th>precision</th>\n",
       "      <th>recall</th>\n",
       "      <th>tpr</th>\n",
       "      <th>fpr</th>\n",
       "    </tr>\n",
       "  </thead>\n",
       "  <tbody>\n",
       "    <tr>\n",
       "      <th>0</th>\n",
       "      <td>0.0</td>\n",
       "      <td>386</td>\n",
       "      <td>1023</td>\n",
       "      <td>0</td>\n",
       "      <td>0</td>\n",
       "      <td>0.273953</td>\n",
       "      <td>1.000000</td>\n",
       "      <td>1.000000</td>\n",
       "      <td>1.000000</td>\n",
       "    </tr>\n",
       "    <tr>\n",
       "      <th>10</th>\n",
       "      <td>0.1</td>\n",
       "      <td>367</td>\n",
       "      <td>537</td>\n",
       "      <td>486</td>\n",
       "      <td>19</td>\n",
       "      <td>0.405973</td>\n",
       "      <td>0.950777</td>\n",
       "      <td>0.950777</td>\n",
       "      <td>0.524927</td>\n",
       "    </tr>\n",
       "    <tr>\n",
       "      <th>20</th>\n",
       "      <td>0.2</td>\n",
       "      <td>337</td>\n",
       "      <td>367</td>\n",
       "      <td>656</td>\n",
       "      <td>49</td>\n",
       "      <td>0.478693</td>\n",
       "      <td>0.873057</td>\n",
       "      <td>0.873057</td>\n",
       "      <td>0.358749</td>\n",
       "    </tr>\n",
       "    <tr>\n",
       "      <th>30</th>\n",
       "      <td>0.3</td>\n",
       "      <td>292</td>\n",
       "      <td>245</td>\n",
       "      <td>778</td>\n",
       "      <td>94</td>\n",
       "      <td>0.543762</td>\n",
       "      <td>0.756477</td>\n",
       "      <td>0.756477</td>\n",
       "      <td>0.239492</td>\n",
       "    </tr>\n",
       "    <tr>\n",
       "      <th>40</th>\n",
       "      <td>0.4</td>\n",
       "      <td>252</td>\n",
       "      <td>175</td>\n",
       "      <td>848</td>\n",
       "      <td>134</td>\n",
       "      <td>0.590164</td>\n",
       "      <td>0.652850</td>\n",
       "      <td>0.652850</td>\n",
       "      <td>0.171065</td>\n",
       "    </tr>\n",
       "    <tr>\n",
       "      <th>50</th>\n",
       "      <td>0.5</td>\n",
       "      <td>212</td>\n",
       "      <td>100</td>\n",
       "      <td>923</td>\n",
       "      <td>174</td>\n",
       "      <td>0.679487</td>\n",
       "      <td>0.549223</td>\n",
       "      <td>0.549223</td>\n",
       "      <td>0.097752</td>\n",
       "    </tr>\n",
       "    <tr>\n",
       "      <th>60</th>\n",
       "      <td>0.6</td>\n",
       "      <td>155</td>\n",
       "      <td>51</td>\n",
       "      <td>972</td>\n",
       "      <td>231</td>\n",
       "      <td>0.752427</td>\n",
       "      <td>0.401554</td>\n",
       "      <td>0.401554</td>\n",
       "      <td>0.049853</td>\n",
       "    </tr>\n",
       "    <tr>\n",
       "      <th>70</th>\n",
       "      <td>0.7</td>\n",
       "      <td>69</td>\n",
       "      <td>13</td>\n",
       "      <td>1010</td>\n",
       "      <td>317</td>\n",
       "      <td>0.841463</td>\n",
       "      <td>0.178756</td>\n",
       "      <td>0.178756</td>\n",
       "      <td>0.012708</td>\n",
       "    </tr>\n",
       "    <tr>\n",
       "      <th>80</th>\n",
       "      <td>0.8</td>\n",
       "      <td>4</td>\n",
       "      <td>0</td>\n",
       "      <td>1023</td>\n",
       "      <td>382</td>\n",
       "      <td>1.000000</td>\n",
       "      <td>0.010363</td>\n",
       "      <td>0.010363</td>\n",
       "      <td>0.000000</td>\n",
       "    </tr>\n",
       "    <tr>\n",
       "      <th>90</th>\n",
       "      <td>0.9</td>\n",
       "      <td>0</td>\n",
       "      <td>0</td>\n",
       "      <td>1023</td>\n",
       "      <td>386</td>\n",
       "      <td>NaN</td>\n",
       "      <td>0.000000</td>\n",
       "      <td>0.000000</td>\n",
       "      <td>0.000000</td>\n",
       "    </tr>\n",
       "    <tr>\n",
       "      <th>100</th>\n",
       "      <td>1.0</td>\n",
       "      <td>0</td>\n",
       "      <td>0</td>\n",
       "      <td>1023</td>\n",
       "      <td>386</td>\n",
       "      <td>NaN</td>\n",
       "      <td>0.000000</td>\n",
       "      <td>0.000000</td>\n",
       "      <td>0.000000</td>\n",
       "    </tr>\n",
       "  </tbody>\n",
       "</table>\n",
       "</div>"
      ],
      "text/plain": [
       "     threshold   tp    fp    tn   fn  precision    recall       tpr       fpr\n",
       "0          0.0  386  1023     0    0   0.273953  1.000000  1.000000  1.000000\n",
       "10         0.1  367   537   486   19   0.405973  0.950777  0.950777  0.524927\n",
       "20         0.2  337   367   656   49   0.478693  0.873057  0.873057  0.358749\n",
       "30         0.3  292   245   778   94   0.543762  0.756477  0.756477  0.239492\n",
       "40         0.4  252   175   848  134   0.590164  0.652850  0.652850  0.171065\n",
       "50         0.5  212   100   923  174   0.679487  0.549223  0.549223  0.097752\n",
       "60         0.6  155    51   972  231   0.752427  0.401554  0.401554  0.049853\n",
       "70         0.7   69    13  1010  317   0.841463  0.178756  0.178756  0.012708\n",
       "80         0.8    4     0  1023  382   1.000000  0.010363  0.010363  0.000000\n",
       "90         0.9    0     0  1023  386        NaN  0.000000  0.000000  0.000000\n",
       "100        1.0    0     0  1023  386        NaN  0.000000  0.000000  0.000000"
      ]
     },
     "execution_count": 114,
     "metadata": {},
     "output_type": "execute_result"
    }
   ],
   "source": [
    "df[::10]"
   ]
  },
  {
   "cell_type": "code",
   "execution_count": 146,
   "metadata": {},
   "outputs": [
    {
     "data": {
      "text/plain": [
       "<matplotlib.legend.Legend at 0x299e1cd6208>"
      ]
     },
     "execution_count": 146,
     "metadata": {},
     "output_type": "execute_result"
    },
    {
     "data": {
      "image/png": "[encoded data removed]",
      "text/plain": [
       "<Figure size 432x288 with 1 Axes>"
      ]
     },
     "metadata": {},
     "output_type": "display_data"
    }
   ],
   "source": [
    "plt.plot(df.threshold,df.tpr,label='tpr')\n",
    "plt.plot(df.threshold,df.fpr,label='fpr')\n",
    "plt.legend()"
   ]
  },
  {
   "cell_type": "code",
   "execution_count": 118,
   "metadata": {},
   "outputs": [],
   "source": [
    "#ideal model"
   ]
  },
  {
   "cell_type": "code",
   "execution_count": 119,
   "metadata": {},
   "outputs": [
    {
     "data": {
      "text/plain": [
       "(1023, 386)"
      ]
     },
     "execution_count": 119,
     "metadata": {},
     "output_type": "execute_result"
    }
   ],
   "source": [
    "num_neg=(y_val==0).sum()\n",
    "num_pos=(y_val==1).sum()\n",
    "num_neg,num_pos"
   ]
  },
  {
   "cell_type": "code",
   "execution_count": 121,
   "metadata": {},
   "outputs": [],
   "source": [
    "y_ideal=np.repeat([0,1],[num_neg,num_pos])\n",
    "y_ideal_pred=np.linspace(0,1,len(y_val))"
   ]
  },
  {
   "cell_type": "code",
   "execution_count": 123,
   "metadata": {},
   "outputs": [
    {
     "data": {
      "text/plain": [
       "1.0"
      ]
     },
     "execution_count": 123,
     "metadata": {},
     "output_type": "execute_result"
    }
   ],
   "source": [
    "((y_ideal_pred>=0.726)==y_ideal).mean()"
   ]
  },
  {
   "cell_type": "code",
   "execution_count": 124,
   "metadata": {},
   "outputs": [
    {
     "data": {
      "text/plain": [
       "0.7260468417317246"
      ]
     },
     "execution_count": 124,
     "metadata": {},
     "output_type": "execute_result"
    }
   ],
   "source": [
    "1-y_val.mean()"
   ]
  },
  {
   "cell_type": "code",
   "execution_count": 125,
   "metadata": {},
   "outputs": [],
   "source": [
    "def tpr_fpr(y_val,y_pred):\n",
    "    \n",
    "    scores=[]\n",
    "    threshold=np.linspace(0,1,101)\n",
    "    for t in threshold:\n",
    "        tp=((y_pred>=t)&(y_val==1)).sum()\n",
    "        tn=((y_pred<t)&(y_val==0)).sum()\n",
    "        fp=((y_pred>=t)&(y_val==0)).sum()\n",
    "        fn=((y_pred<t)&(y_val==1)).sum()\n",
    "        precision=tp/(tp+fP)\n",
    "        recall=tp/(tp+fn)  \n",
    "        tpr=tp/(tp+fn)\n",
    "        fpr=fp/(fp+tn)\n",
    "        scores.append((t,tp,fp,tn,fn,precision,recall,tpr,fpr))\n",
    "    cols=['threshold','tp','fp','tn','fn','precision','recall','tpr','fpr']\n",
    "    df=pd.DataFrame(scores,columns=cols) \n",
    "    return df"
   ]
  },
  {
   "cell_type": "code",
   "execution_count": 139,
   "metadata": {},
   "outputs": [],
   "source": [
    "df_ideal=tpr_fpr(y_ideal,y_ideal_pred)"
   ]
  },
  {
   "cell_type": "code",
   "execution_count": 140,
   "metadata": {},
   "outputs": [
    {
     "data": {
      "text/html": [
       "<div>\n",
       "<style scoped>\n",
       "    .dataframe tbody tr th:only-of-type {\n",
       "        vertical-align: middle;\n",
       "    }\n",
       "\n",
       "    .dataframe tbody tr th {\n",
       "        vertical-align: top;\n",
       "    }\n",
       "\n",
       "    .dataframe thead th {\n",
       "        text-align: right;\n",
       "    }\n",
       "</style>\n",
       "<table border=\"1\" class=\"dataframe\">\n",
       "  <thead>\n",
       "    <tr style=\"text-align: right;\">\n",
       "      <th></th>\n",
       "      <th>threshold</th>\n",
       "      <th>tp</th>\n",
       "      <th>fp</th>\n",
       "      <th>tn</th>\n",
       "      <th>fn</th>\n",
       "      <th>precision</th>\n",
       "      <th>recall</th>\n",
       "      <th>tpr</th>\n",
       "      <th>fpr</th>\n",
       "    </tr>\n",
       "  </thead>\n",
       "  <tbody>\n",
       "    <tr>\n",
       "      <th>0</th>\n",
       "      <td>0.00</td>\n",
       "      <td>386</td>\n",
       "      <td>1023</td>\n",
       "      <td>0</td>\n",
       "      <td>0</td>\n",
       "      <td>0       1.000000\n",
       "1       1.000000\n",
       "2       1.00...</td>\n",
       "      <td>1.0</td>\n",
       "      <td>1.0</td>\n",
       "      <td>1.000000</td>\n",
       "    </tr>\n",
       "    <tr>\n",
       "      <th>1</th>\n",
       "      <td>0.01</td>\n",
       "      <td>386</td>\n",
       "      <td>1008</td>\n",
       "      <td>15</td>\n",
       "      <td>0</td>\n",
       "      <td>0       1.000000\n",
       "1       1.000000\n",
       "2       1.00...</td>\n",
       "      <td>1.0</td>\n",
       "      <td>1.0</td>\n",
       "      <td>0.985337</td>\n",
       "    </tr>\n",
       "    <tr>\n",
       "      <th>2</th>\n",
       "      <td>0.02</td>\n",
       "      <td>386</td>\n",
       "      <td>994</td>\n",
       "      <td>29</td>\n",
       "      <td>0</td>\n",
       "      <td>0       1.000000\n",
       "1       1.000000\n",
       "2       1.00...</td>\n",
       "      <td>1.0</td>\n",
       "      <td>1.0</td>\n",
       "      <td>0.971652</td>\n",
       "    </tr>\n",
       "    <tr>\n",
       "      <th>3</th>\n",
       "      <td>0.03</td>\n",
       "      <td>386</td>\n",
       "      <td>980</td>\n",
       "      <td>43</td>\n",
       "      <td>0</td>\n",
       "      <td>0       1.000000\n",
       "1       1.000000\n",
       "2       1.00...</td>\n",
       "      <td>1.0</td>\n",
       "      <td>1.0</td>\n",
       "      <td>0.957967</td>\n",
       "    </tr>\n",
       "    <tr>\n",
       "      <th>4</th>\n",
       "      <td>0.04</td>\n",
       "      <td>386</td>\n",
       "      <td>966</td>\n",
       "      <td>57</td>\n",
       "      <td>0</td>\n",
       "      <td>0       1.000000\n",
       "1       1.000000\n",
       "2       1.00...</td>\n",
       "      <td>1.0</td>\n",
       "      <td>1.0</td>\n",
       "      <td>0.944282</td>\n",
       "    </tr>\n",
       "  </tbody>\n",
       "</table>\n",
       "</div>"
      ],
      "text/plain": [
       "   threshold   tp    fp  tn  fn  \\\n",
       "0       0.00  386  1023   0   0   \n",
       "1       0.01  386  1008  15   0   \n",
       "2       0.02  386   994  29   0   \n",
       "3       0.03  386   980  43   0   \n",
       "4       0.04  386   966  57   0   \n",
       "\n",
       "                                           precision  recall  tpr       fpr  \n",
       "0  0       1.000000\n",
       "1       1.000000\n",
       "2       1.00...     1.0  1.0  1.000000  \n",
       "1  0       1.000000\n",
       "1       1.000000\n",
       "2       1.00...     1.0  1.0  0.985337  \n",
       "2  0       1.000000\n",
       "1       1.000000\n",
       "2       1.00...     1.0  1.0  0.971652  \n",
       "3  0       1.000000\n",
       "1       1.000000\n",
       "2       1.00...     1.0  1.0  0.957967  \n",
       "4  0       1.000000\n",
       "1       1.000000\n",
       "2       1.00...     1.0  1.0  0.944282  "
      ]
     },
     "execution_count": 140,
     "metadata": {},
     "output_type": "execute_result"
    }
   ],
   "source": [
    "df_ideal.head()"
   ]
  },
  {
   "cell_type": "code",
   "execution_count": 141,
   "metadata": {},
   "outputs": [
    {
     "data": {
      "text/plain": [
       "<matplotlib.legend.Legend at 0x299e1c0f5c0>"
      ]
     },
     "execution_count": 141,
     "metadata": {},
     "output_type": "execute_result"
    },
    {
     "data": {
      "image/png": "[encoded data removed]",
      "text/plain": [
       "<Figure size 432x288 with 1 Axes>"
      ]
     },
     "metadata": {},
     "output_type": "display_data"
    }
   ],
   "source": [
    "plt.plot(df_ideal.threshold,df.tpr,label='tpr')\n",
    "plt.plot(df_ideal.threshold,df.fpr,label='fpr')\n",
    "plt.legend()"
   ]
  },
  {
   "cell_type": "code",
   "execution_count": 142,
   "metadata": {},
   "outputs": [
    {
     "data": {
      "text/plain": [
       "[<matplotlib.lines.Line2D at 0x299e1c73860>]"
      ]
     },
     "execution_count": 142,
     "metadata": {},
     "output_type": "execute_result"
    },
    {
     "data": {
      "image/png": "[encoded data removed]",
      "text/plain": [
       "<Figure size 432x288 with 1 Axes>"
      ]
     },
     "metadata": {},
     "output_type": "display_data"
    }
   ],
   "source": [
    "plt.plot(df.tpr,df.fpr)\n"
   ]
  },
  {
   "cell_type": "code",
   "execution_count": 151,
   "metadata": {},
   "outputs": [
    {
     "data": {
      "text/plain": [
       "<matplotlib.legend.Legend at 0x299e1f01898>"
      ]
     },
     "execution_count": 151,
     "metadata": {},
     "output_type": "execute_result"
    },
    {
     "data": {
      "image/png": "[encoded data removed]",
      "text/plain": [
       "<Figure size 360x360 with 1 Axes>"
      ]
     },
     "metadata": {},
     "output_type": "display_data"
    }
   ],
   "source": [
    "plt.figure(figsize=(5,5))\n",
    "plt.plot(df_ideal.fpr,df_ideal.tpr)\n",
    "plt.plot(df.fpr,df.tpr)\n",
    "plt.xlabel('fpr')\n",
    "plt.ylabel('tpr')\n",
    "plt.legend()"
   ]
  },
  {
   "cell_type": "markdown",
   "metadata": {},
   "source": [
    "# 4.6 AUC"
   ]
  },
  {
   "cell_type": "code",
   "execution_count": 156,
   "metadata": {},
   "outputs": [],
   "source": [
    "from sklearn.metrics import auc\n",
    "from sklearn.metrics import roc_curve"
   ]
  },
  {
   "cell_type": "code",
   "execution_count": 155,
   "metadata": {},
   "outputs": [
    {
     "data": {
      "text/plain": [
       "0.8463208889834327"
      ]
     },
     "execution_count": 155,
     "metadata": {},
     "output_type": "execute_result"
    }
   ],
   "source": [
    "auc(df.fpr,df.tpr)"
   ]
  },
  {
   "cell_type": "code",
   "execution_count": 158,
   "metadata": {},
   "outputs": [
    {
     "data": {
      "text/plain": [
       "0.8465956573929162"
      ]
     },
     "execution_count": 158,
     "metadata": {},
     "output_type": "execute_result"
    }
   ],
   "source": [
    "fpr,tpr,threshold=roc_curve(y_val,y_pred)\n",
    "auc(fpr,tpr)"
   ]
  },
  {
   "cell_type": "code",
   "execution_count": 159,
   "metadata": {},
   "outputs": [],
   "source": [
    "from sklearn.metrics import roc_auc_score"
   ]
  },
  {
   "cell_type": "code",
   "execution_count": 160,
   "metadata": {},
   "outputs": [
    {
     "data": {
      "text/plain": [
       "0.8465956573929162"
      ]
     },
     "execution_count": 160,
     "metadata": {},
     "output_type": "execute_result"
    }
   ],
   "source": [
    "roc_auc_score(y_val,y_pred)"
   ]
  },
  {
   "cell_type": "code",
   "execution_count": 162,
   "metadata": {},
   "outputs": [],
   "source": [
    "#what actually AUC does\n",
    "pos=y_pred[y_val==1]\n",
    "neg=y_pred[y_val==0]\n",
    "import random"
   ]
  },
  {
   "cell_type": "code",
   "execution_count": 166,
   "metadata": {},
   "outputs": [
    {
     "data": {
      "text/plain": [
       "0.8466931"
      ]
     },
     "execution_count": 166,
     "metadata": {},
     "output_type": "execute_result"
    }
   ],
   "source": [
    "n=100000\n",
    "success=0\n",
    "for i in range(n):\n",
    "    pos_ind=random.randint(0,len(pos)-1)\n",
    "    neg_ind=random.randint(0,len(neg)-1)\n",
    "    if pos[pos_ind]>neg[neg_ind]:\n",
    "        success+=1\n",
    "success/n"
   ]
  },
  {
   "cell_type": "code",
   "execution_count": 167,
   "metadata": {},
   "outputs": [
    {
     "data": {
      "text/plain": [
       "0.84533"
      ]
     },
     "execution_count": 167,
     "metadata": {},
     "output_type": "execute_result"
    }
   ],
   "source": [
    "n=100000\n",
    "np.random.seed(1)\n",
    "pos_index=np.random.randint(0,len(pos),size=n)  #len(pos) is not inclusive\n",
    "neg_index=np.random.randint(0,len(neg),size=n)\n",
    "(pos[pos_index]>neg[neg_index]).mean()"
   ]
  },
  {
   "cell_type": "markdown",
   "metadata": {},
   "source": [
    "# 4.7 Cross _Validation "
   ]
  },
  {
   "cell_type": "code",
   "execution_count": 168,
   "metadata": {},
   "outputs": [],
   "source": [
    "from sklearn.model_selection import KFold"
   ]
  },
  {
   "cell_type": "code",
   "execution_count": 189,
   "metadata": {},
   "outputs": [],
   "source": [
    "def train(df,y,c):\n",
    "    dictt=df[categorical_columns+numerical].to_dict(orient='record')\n",
    "    dv=DictVectorizer(sparse=False)\n",
    "    x_train=dv.fit_transform(dictt)\n",
    "    model=LogisticRegression(C=c,max_iter=1000)\n",
    "    model.fit(x_train,y)\n",
    "    return dv,model"
   ]
  },
  {
   "cell_type": "code",
   "execution_count": 190,
   "metadata": {},
   "outputs": [],
   "source": [
    "def predict(df,y,dv):\n",
    "    dictt=df[categorical_columns+numerical].to_dict(orient='record')\n",
    "    x_val=dv.fit_transform(dictt)\n",
    "    y_pred=model.predict_proba(x_val)[:,1]\n",
    "    return y_pred\n",
    "    "
   ]
  },
  {
   "cell_type": "code",
   "execution_count": 191,
   "metadata": {},
   "outputs": [
    {
     "ename": "TypeError",
     "evalue": "train() missing 1 required positional argument: 'c'",
     "output_type": "error",
     "traceback": [
      "\u001b[1;31m---------------------------------------------------------------------------\u001b[0m",
      "\u001b[1;31mTypeError\u001b[0m                                 Traceback (most recent call last)",
      "\u001b[1;32m<ipython-input-191-b086c572deab>\u001b[0m in \u001b[0;36m<module>\u001b[1;34m()\u001b[0m\n\u001b[1;32m----> 1\u001b[1;33m \u001b[0mdv\u001b[0m\u001b[1;33m,\u001b[0m\u001b[0mmodel\u001b[0m\u001b[1;33m=\u001b[0m\u001b[0mtrain\u001b[0m\u001b[1;33m(\u001b[0m\u001b[0mdf_train\u001b[0m\u001b[1;33m,\u001b[0m\u001b[0my_train\u001b[0m\u001b[1;33m)\u001b[0m\u001b[1;33m\u001b[0m\u001b[0m\n\u001b[0m",
      "\u001b[1;31mTypeError\u001b[0m: train() missing 1 required positional argument: 'c'"
     ]
    }
   ],
   "source": [
    "dv,model=train(df_train,y_train)"
   ]
  },
  {
   "cell_type": "code",
   "execution_count": 175,
   "metadata": {},
   "outputs": [],
   "source": [
    "y_pred=predict(df_val,y_val,dv)"
   ]
  },
  {
   "cell_type": "code",
   "execution_count": 176,
   "metadata": {},
   "outputs": [],
   "source": [
    "kfold=KFold(n_splits=10,random_state=1,shuffle=True)"
   ]
  },
  {
   "cell_type": "code",
   "execution_count": 177,
   "metadata": {},
   "outputs": [
    {
     "data": {
      "text/plain": [
       "<generator object _BaseKFold.split at 0x00000299E1F44F10>"
      ]
     },
     "execution_count": 177,
     "metadata": {},
     "output_type": "execute_result"
    }
   ],
   "source": [
    "kfold.split(df_train_full)"
   ]
  },
  {
   "cell_type": "code",
   "execution_count": 178,
   "metadata": {},
   "outputs": [
    {
     "data": {
      "text/plain": [
       "(array([   0,    1,    2, ..., 5631, 5632, 5633]),\n",
       " array([   4,   21,   28,   33,   44,   58,   67,   72,   79,   81,   82,\n",
       "          98,  101,  116,  119,  125,  126,  136,  141,  147,  161,  169,\n",
       "         179,  192,  196,  200,  206,  214,  222,  231,  250,  255,  259,\n",
       "         276,  280,  285,  301,  308,  313,  314,  325,  343,  354,  359,\n",
       "         383,  386,  407,  420,  428,  433,  440,  447,  457,  473,  486,\n",
       "         496,  501,  503,  507,  545,  554,  557,  566,  574,  580,  582,\n",
       "         592,  605,  608,  623,  634,  636,  645,  662,  667,  684,  687,\n",
       "         689,  729,  745,  758,  763,  778,  783,  792,  795,  808,  839,\n",
       "         840,  847,  850,  858,  867,  870,  871,  881,  899,  906,  927,\n",
       "         929,  931,  940,  943,  976,  984,  987,  988, 1005, 1016, 1028,\n",
       "        1034, 1038, 1050, 1056, 1074, 1079, 1117, 1122, 1123, 1131, 1134,\n",
       "        1139, 1144, 1155, 1159, 1163, 1169, 1179, 1198, 1206, 1216, 1238,\n",
       "        1247, 1256, 1272, 1297, 1298, 1310, 1344, 1356, 1370, 1375, 1377,\n",
       "        1379, 1396, 1403, 1406, 1409, 1410, 1422, 1424, 1435, 1453, 1463,\n",
       "        1499, 1528, 1533, 1545, 1548, 1552, 1554, 1560, 1564, 1577, 1587,\n",
       "        1615, 1620, 1625, 1642, 1666, 1673, 1681, 1685, 1715, 1718, 1731,\n",
       "        1734, 1736, 1745, 1748, 1750, 1751, 1773, 1783, 1784, 1794, 1796,\n",
       "        1802, 1807, 1810, 1812, 1814, 1831, 1851, 1852, 1854, 1865, 1881,\n",
       "        1892, 1893, 1899, 1919, 1924, 1929, 1937, 1946, 1959, 1961, 1993,\n",
       "        1999, 2018, 2019, 2025, 2031, 2038, 2043, 2045, 2054, 2064, 2088,\n",
       "        2093, 2098, 2107, 2116, 2133, 2139, 2156, 2157, 2193, 2196, 2223,\n",
       "        2246, 2247, 2257, 2265, 2273, 2275, 2279, 2282, 2287, 2290, 2320,\n",
       "        2346, 2347, 2353, 2369, 2377, 2408, 2414, 2435, 2451, 2458, 2463,\n",
       "        2473, 2488, 2490, 2498, 2513, 2517, 2529, 2530, 2534, 2535, 2537,\n",
       "        2538, 2567, 2577, 2578, 2608, 2611, 2617, 2634, 2697, 2698, 2704,\n",
       "        2708, 2711, 2720, 2721, 2733, 2742, 2779, 2821, 2852, 2854, 2864,\n",
       "        2870, 2872, 2874, 2878, 2886, 2889, 2897, 2900, 2903, 2905, 2907,\n",
       "        2930, 2942, 2961, 2963, 2968, 2969, 2971, 2981, 2985, 2989, 2998,\n",
       "        3014, 3015, 3027, 3060, 3067, 3074, 3078, 3113, 3116, 3119, 3135,\n",
       "        3176, 3187, 3193, 3194, 3202, 3215, 3216, 3218, 3223, 3245, 3305,\n",
       "        3330, 3331, 3355, 3361, 3381, 3384, 3388, 3393, 3396, 3402, 3406,\n",
       "        3408, 3414, 3417, 3419, 3420, 3422, 3434, 3450, 3455, 3461, 3467,\n",
       "        3491, 3496, 3501, 3527, 3541, 3549, 3553, 3560, 3586, 3594, 3601,\n",
       "        3641, 3656, 3658, 3661, 3707, 3715, 3725, 3729, 3731, 3737, 3757,\n",
       "        3770, 3780, 3782, 3787, 3798, 3804, 3807, 3835, 3847, 3851, 3854,\n",
       "        3857, 3866, 3875, 3882, 3883, 3888, 3902, 3939, 3940, 3953, 3991,\n",
       "        3992, 4006, 4031, 4053, 4067, 4082, 4119, 4128, 4130, 4144, 4148,\n",
       "        4149, 4167, 4177, 4207, 4210, 4219, 4241, 4247, 4267, 4276, 4277,\n",
       "        4298, 4307, 4309, 4313, 4317, 4339, 4352, 4353, 4363, 4380, 4381,\n",
       "        4387, 4392, 4397, 4399, 4417, 4425, 4434, 4446, 4461, 4465, 4469,\n",
       "        4480, 4481, 4497, 4503, 4506, 4521, 4525, 4526, 4540, 4542, 4548,\n",
       "        4550, 4553, 4558, 4563, 4568, 4572, 4575, 4588, 4590, 4595, 4600,\n",
       "        4610, 4617, 4627, 4633, 4643, 4653, 4661, 4666, 4671, 4672, 4693,\n",
       "        4699, 4710, 4711, 4718, 4724, 4731, 4734, 4737, 4755, 4760, 4778,\n",
       "        4785, 4821, 4824, 4854, 4857, 4859, 4875, 4876, 4899, 4919, 4921,\n",
       "        4941, 4943, 4963, 4980, 4981, 4992, 5003, 5008, 5012, 5036, 5049,\n",
       "        5068, 5080, 5091, 5099, 5111, 5123, 5132, 5144, 5167, 5179, 5189,\n",
       "        5196, 5199, 5206, 5232, 5237, 5244, 5286, 5305, 5330, 5333, 5341,\n",
       "        5361, 5368, 5404, 5411, 5413, 5420, 5439, 5447, 5458, 5462, 5463,\n",
       "        5469, 5473, 5476, 5478, 5482, 5485, 5487, 5519, 5522, 5525, 5531,\n",
       "        5545, 5552, 5557, 5562, 5581, 5583, 5594, 5596, 5598, 5601, 5610,\n",
       "        5616, 5626, 5629]))"
      ]
     },
     "execution_count": 178,
     "metadata": {},
     "output_type": "execute_result"
    }
   ],
   "source": [
    "next(kfold.split(df_train_full))"
   ]
  },
  {
   "cell_type": "code",
   "execution_count": 179,
   "metadata": {},
   "outputs": [],
   "source": [
    "train_indx,val_indx=next(kfold.split(df_train_full))"
   ]
  },
  {
   "cell_type": "code",
   "execution_count": 180,
   "metadata": {},
   "outputs": [
    {
     "data": {
      "text/plain": [
       "5070"
      ]
     },
     "execution_count": 180,
     "metadata": {},
     "output_type": "execute_result"
    }
   ],
   "source": [
    "len(train_indx)"
   ]
  },
  {
   "cell_type": "code",
   "execution_count": 181,
   "metadata": {},
   "outputs": [],
   "source": [
    "df_train=df_train_full.iloc[train_indx]\n",
    "df_val=df_train_full.iloc[val_indx]"
   ]
  },
  {
   "cell_type": "code",
   "execution_count": 182,
   "metadata": {},
   "outputs": [
    {
     "name": "stdout",
     "output_type": "stream",
     "text": [
      "Collecting tqdm\n",
      "  Downloading https://files.pythonhosted.org/packages/47/bb/849011636c4da2e44f1253cd927cfb20ada4374d8b3a4e425416e84900cc/tqdm-4.64.1-py2.py3-none-any.whl (78kB)\n",
      "Requirement already satisfied: colorama; platform_system == \"Windows\" in c:\\users\\0\\anaconda3\\lib\\site-packages (from tqdm) (0.3.9)\n",
      "Collecting importlib-resources; python_version < \"3.7\" (from tqdm)\n",
      "  Downloading https://files.pythonhosted.org/packages/24/1b/33e489669a94da3ef4562938cd306e8fa915e13939d7b8277cb5569cb405/importlib_resources-5.4.0-py3-none-any.whl\n",
      "Collecting zipp>=3.1.0; python_version < \"3.10\" (from importlib-resources; python_version < \"3.7\"->tqdm)\n",
      "  Downloading https://files.pythonhosted.org/packages/bd/df/d4a4974a3e3957fd1c1fa3082366d7fff6e428ddb55f074bf64876f8e8ad/zipp-3.6.0-py3-none-any.whl\n",
      "Installing collected packages: zipp, importlib-resources, tqdm\n",
      "Successfully installed importlib-resources-5.4.0 tqdm-4.64.1 zipp-3.6.0\n"
     ]
    },
    {
     "name": "stderr",
     "output_type": "stream",
     "text": [
      "mysql-connector-python 8.0.27 requires protobuf>=3.0.0, which is not installed.\n",
      "distributed 1.21.8 requires msgpack, which is not installed.\n",
      "Cache entry deserialization failed, entry ignored\n",
      "You are using pip version 10.0.1, however version 21.3.1 is available.\n",
      "You should consider upgrading via the 'python -m pip install --upgrade pip' command.\n"
     ]
    }
   ],
   "source": [
    "!pip install tqdm"
   ]
  },
  {
   "cell_type": "code",
   "execution_count": 186,
   "metadata": {},
   "outputs": [],
   "source": [
    "from tqdm.auto import tqdm"
   ]
  },
  {
   "cell_type": "code",
   "execution_count": 194,
   "metadata": {},
   "outputs": [
    {
     "data": {
      "application/vnd.jupyter.widget-view+json": {
       "model_id": "c0a90e04f8a149168b768f6838296baf",
       "version_major": 2,
       "version_minor": 0
      },
      "text/plain": [
       "0it [00:00, ?it/s]"
      ]
     },
     "metadata": {},
     "output_type": "display_data"
    },
    {
     "name": "stdout",
     "output_type": "stream",
     "text": [
      "0.001   0.826   0.016\n"
     ]
    },
    {
     "data": {
      "application/vnd.jupyter.widget-view+json": {
       "model_id": "37118bb372744df5ac7d456ebc4814af",
       "version_major": 2,
       "version_minor": 0
      },
      "text/plain": [
       "0it [00:00, ?it/s]"
      ]
     },
     "metadata": {},
     "output_type": "display_data"
    },
    {
     "name": "stdout",
     "output_type": "stream",
     "text": [
      "0.01   0.840   0.012\n"
     ]
    },
    {
     "data": {
      "application/vnd.jupyter.widget-view+json": {
       "model_id": "8d0252611b9649edbf7a2c481df2f572",
       "version_major": 2,
       "version_minor": 0
      },
      "text/plain": [
       "0it [00:00, ?it/s]"
      ]
     },
     "metadata": {},
     "output_type": "display_data"
    },
    {
     "name": "stdout",
     "output_type": "stream",
     "text": [
      "0.1   0.842   0.012\n"
     ]
    },
    {
     "data": {
      "application/vnd.jupyter.widget-view+json": {
       "model_id": "0e4ef64330c34a89bd069d3a6c0dd2ec",
       "version_major": 2,
       "version_minor": 0
      },
      "text/plain": [
       "0it [00:00, ?it/s]"
      ]
     },
     "metadata": {},
     "output_type": "display_data"
    },
    {
     "name": "stdout",
     "output_type": "stream",
     "text": [
      "1   0.842   0.012\n"
     ]
    },
    {
     "data": {
      "application/vnd.jupyter.widget-view+json": {
       "model_id": "10d067ff75654097abd933071d00d294",
       "version_major": 2,
       "version_minor": 0
      },
      "text/plain": [
       "0it [00:00, ?it/s]"
      ]
     },
     "metadata": {},
     "output_type": "display_data"
    },
    {
     "name": "stdout",
     "output_type": "stream",
     "text": [
      "10   0.842   0.012\n"
     ]
    }
   ],
   "source": [
    "C=[0.001,0.01,0.1,1,10]\n",
    "for c in C:\n",
    "    \n",
    "    scores=[]\n",
    "    for train_indx,val_indx in tqdm(kfold.split(df_train_full)):\n",
    "        df_train=df_train_full.iloc[train_indx]\n",
    "        df_val=df_train_full.iloc[val_indx]\n",
    "        y_train=df_train.churn.values\n",
    "        y_val=df_val.churn.values\n",
    "        dv,model=train(df_train,y_train,c)\n",
    "        y_pred=predict(df_val,y_val,dv)\n",
    "        auc=roc_auc_score(y_val,y_pred)\n",
    "        scores.append(auc)\n",
    "    scores=np.array(scores)\n",
    "    scores.mean()\n",
    "    print('%s   %.3f   %.3f' %(c,scores.mean(),scores.std()))"
   ]
  },
  {
   "cell_type": "code",
   "execution_count": 188,
   "metadata": {},
   "outputs": [
    {
     "data": {
      "text/plain": [
       "0.01227361869311348"
      ]
     },
     "execution_count": 188,
     "metadata": {},
     "output_type": "execute_result"
    }
   ],
   "source": [
    "scores.std()"
   ]
  },
  {
   "cell_type": "code",
   "execution_count": 195,
   "metadata": {},
   "outputs": [],
   "source": [
    "#first we trained model in train func without C prameter(regularisation) and then wit different C's"
   ]
  },
  {
   "cell_type": "code",
   "execution_count": 196,
   "metadata": {},
   "outputs": [],
   "source": [
    "#final model\n",
    "\n",
    "dv,model=train(df_train_full,df_train_full.churn.values,0.1)\n",
    "y_pred=predict(df_test,y_test,dv)\n",
    "auc=roc_auc_score(y_test,y_pred)"
   ]
  },
  {
   "cell_type": "code",
   "execution_count": 199,
   "metadata": {},
   "outputs": [
    {
     "data": {
      "text/plain": [
       "0.857801954347991"
      ]
     },
     "execution_count": 199,
     "metadata": {},
     "output_type": "execute_result"
    }
   ],
   "source": [
    "auc"
   ]
  },
  {
   "cell_type": "code",
   "execution_count": null,
   "metadata": {},
   "outputs": [],
   "source": []
  }
 ],
 "metadata": {
  "kernelspec": {
   "display_name": "Python 3",
   "language": "python",
   "name": "python3"
  },
  "language_info": {
   "codemirror_mode": {
    "name": "ipython",
    "version": 3
   },
   "file_extension": ".py",
   "mimetype": "text/x-python",
   "name": "python",
   "nbconvert_exporter": "python",
   "pygments_lexer": "ipython3",
   "version": "3.6.5"
  }
 },
 "nbformat": 4,
 "nbformat_minor": 2
}
